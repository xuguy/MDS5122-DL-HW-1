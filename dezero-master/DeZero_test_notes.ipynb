{
 "cells": [
  {
   "cell_type": "code",
   "execution_count": 1,
   "metadata": {},
   "outputs": [
    {
     "name": "stderr",
     "output_type": "stream",
     "text": [
      "C:\\Users\\xuguy\\AppData\\Local\\Temp\\ipykernel_5920\\2133779864.py:2: DeprecationWarning: the imp module is deprecated in favour of importlib and slated for removal in Python 3.12; see the module's documentation for alternative uses\n",
      "  from imp import reload\n"
     ]
    },
    {
     "name": "stdout",
     "output_type": "stream",
     "text": [
      "No module named 'cupy'\n",
      "Loss: [0.7112133]\n",
      "gradients: variable([ 0.17490506 -0.099857    0.28040347])\n"
     ]
    }
   ],
   "source": [
    "# test sigmoid focal loss\n",
    "from imp import reload\n",
    "from dezero import Variable\n",
    "import dezero.functions as F\n",
    "reload(F)\n",
    "import numpy as np\n",
    "\n",
    "# input a random variable into  sigmoid focalloss\n",
    "x = Variable(np.array([1.0, -3.0,2], dtype=np.float32))\n",
    "target = Variable(np.array([0.0, 1.0, 0.0], dtype=np.float32))\n",
    "\n",
    "# 计算 Focal Loss\n",
    "loss = F.sigmoid_focal_loss_manual(x, target, alpha=0.25, gamma=3)\n",
    "print(\"Loss:\", loss.data) \n",
    "x.cleargrad()\n",
    "loss.backward()\n",
    "print(\"gradients:\",x.grad)"
   ]
  },
  {
   "cell_type": "code",
   "execution_count": 2,
   "metadata": {},
   "outputs": [
    {
     "name": "stdout",
     "output_type": "stream",
     "text": [
      "loss(torch): tensor(0.7112, grad_fn=<MeanBackward0>)\n",
      "gradients(torch): tensor([ 0.1749, -0.0999,  0.2804])\n"
     ]
    }
   ],
   "source": [
    "# verify using torchvision.ops.sigmoid_focal_loss\n",
    "from torchvision.ops import sigmoid_focal_loss as focal\n",
    "import torch\n",
    "\n",
    "x = torch.tensor(np.array([1.0, -3.0, 2], dtype=np.float32), requires_grad=True)\n",
    "target = torch.tensor(np.array([0.0, 1.0, 0.0], dtype=np.float32), requires_grad=False)\n",
    "\n",
    "loss_torch = focal(x, target, alpha = 0.25, gamma = 3,reduction='mean')\n",
    "print(\"loss(torch):\", loss_torch)\n",
    "\n",
    "loss_torch.backward()\n",
    "print(\"gradients(torch):\",x.grad)"
   ]
  },
  {
   "cell_type": "code",
   "execution_count": 3,
   "metadata": {},
   "outputs": [
    {
     "name": "stdout",
     "output_type": "stream",
     "text": [
      "loss: variable(6.7350397)\n",
      "grads: variable([1.0507009873554805 variable(0.08753060945898154) 1.0507009873554805\n",
      "          1.0507009873554805])\n"
     ]
    }
   ],
   "source": [
    "# SELU test\n",
    "import dezero.functions as F\n",
    "from imp import reload\n",
    "reload(F)\n",
    "from dezero import Variable\n",
    "import torch\n",
    "import numpy as np\n",
    "\n",
    "x = Variable(np.array([1.0, -3.0,2.0, 5], dtype=np.float32))\n",
    "x_np = np.array([1.0, -3.0,2])\n",
    "y = F.sum(F.selu(x))\n",
    "y.cleargrad()\n",
    "y.backward()\n",
    "print(\"loss:\", y)\n",
    "print(\"grads:\", x.grad)"
   ]
  },
  {
   "cell_type": "code",
   "execution_count": 4,
   "metadata": {},
   "outputs": [
    {
     "name": "stdout",
     "output_type": "stream",
     "text": [
      "loss(torch):  tensor(6.7350, grad_fn=<SumBackward0>)\n",
      "grads(torch):  tensor([1.0507, 0.0875, 1.0507, 1.0507])\n"
     ]
    }
   ],
   "source": [
    "# verify using torch.nn.functional.selu\n",
    "x_t = torch.tensor(np.array([1.0, -3.0, 2.0, 5]), requires_grad = True,  dtype = torch.float32)\n",
    "\n",
    "y_t = torch.nn.functional.selu(x_t).sum()\n",
    "y_t.backward()\n",
    "print(\"loss(torch): \",y_t)\n",
    "print(\"grads(torch): \", x_t.grad)"
   ]
  },
  {
   "cell_type": "code",
   "execution_count": 5,
   "metadata": {},
   "outputs": [
    {
     "name": "stdout",
     "output_type": "stream",
     "text": [
      "activation:  variable(7.9700003)\n",
      "grad:  variable([1.   0.01 1.   1.  ])\n"
     ]
    }
   ],
   "source": [
    "# self-made framework's leaky relu test\n",
    "x = Variable(np.array([1.0, -3.0,2.0, 5], dtype=np.float32))\n",
    "y = F.sum(F.leaky_relu(x))\n",
    "y.cleargrad()\n",
    "y.backward()\n",
    "print(\"activation: \",y)\n",
    "print(\"grad: \", x.grad)"
   ]
  },
  {
   "cell_type": "code",
   "execution_count": 6,
   "metadata": {},
   "outputs": [
    {
     "name": "stdout",
     "output_type": "stream",
     "text": [
      "activation(torch):  tensor(7.9700, grad_fn=<SumBackward0>)\n",
      "grads(torch):  tensor([1.0000, 0.0100, 1.0000, 1.0000])\n"
     ]
    }
   ],
   "source": [
    "# verify with torch.nn.functional.leaky_rely \n",
    "x_t = torch.tensor(np.array([1.0, -3.0, 2.0, 5]), requires_grad = True,  dtype = torch.float32)\n",
    "y_t = torch.nn.functional.leaky_relu(x_t,negative_slope=0.01).sum()\n",
    "y_t.backward()\n",
    "print(\"activation(torch): \", y_t)\n",
    "print(\"grads(torch): \", x_t.grad)\n"
   ]
  }
 ],
 "metadata": {
  "kernelspec": {
   "display_name": "DL-HW-Py310",
   "language": "python",
   "name": "python3"
  },
  "language_info": {
   "codemirror_mode": {
    "name": "ipython",
    "version": 3
   },
   "file_extension": ".py",
   "mimetype": "text/x-python",
   "name": "python",
   "nbconvert_exporter": "python",
   "pygments_lexer": "ipython3",
   "version": "3.10.16"
  }
 },
 "nbformat": 4,
 "nbformat_minor": 2
}
